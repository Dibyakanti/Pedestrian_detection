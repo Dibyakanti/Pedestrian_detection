{
  "nbformat": 4,
  "nbformat_minor": 0,
  "metadata": {
    "colab": {
      "name": "Opencv_HOG.ipynb",
      "provenance": [],
      "collapsed_sections": []
    },
    "kernelspec": {
      "name": "python3",
      "display_name": "Python 3"
    },
    "language_info": {
      "name": "python"
    }
  },
  "cells": [
    {
      "cell_type": "code",
      "metadata": {
        "id": "iTRArV4Mf0HI"
      },
      "source": [
        "from imutils.object_detection import non_max_suppression\n",
        "import imutils\n",
        "import os\n",
        "import sys\n",
        "import glob\n",
        "import joblib\n",
        "from google.colab.patches import cv2_imshow\n",
        "import pickle\n",
        "import itertools\n",
        "import glob\n",
        "import os.path\n",
        "from PIL import Image\n",
        "import numpy as np\n",
        "import cv2"
      ],
      "execution_count": 1,
      "outputs": []
    },
    {
      "cell_type": "code",
      "metadata": {
        "id": "6QIiET_Df9kk"
      },
      "source": [
        "# opencv implementation\n",
        "hog = cv2.HOGDescriptor(\"hog.xml\")\n",
        "hog.setSVMDetector(cv2.HOGDescriptor_getDefaultPeopleDetector())\n",
        "\n",
        "for i in range(100,999,20):\n",
        "  # Here put the addres of the images\n",
        "  image = cv2.imread(\"/content/drive/MyDrive/CV/seq03-img-left/image_00000\"+str(i)+\"_0.png\")\n",
        "\n",
        "  (rects, weights) = hog.detectMultiScale(image, winStride=(1, 1),padding=(8, 8), scale=1.4)\n",
        "\n",
        "  # for (x, y, w, h) in rects:\n",
        "  #     cv2.rectangle(image, (x, y),(x + w, y + h),(0, 0, 255), 2)\n",
        "\n",
        "  prune_rects = []\n",
        "  if(np.sum(weights>0.5)==0):\n",
        "    weights = weights/np.linalg.norm(weights)\n",
        "  for i in range(len(rects)):\n",
        "    x,y,w,h = rects[i]\n",
        "    if(weights[i]>0.5):\n",
        "      prune_rects.append([x, y, w, h])\n",
        "\n",
        "\n",
        "  for (x, y, w, h) in prune_rects:\n",
        "      cv2.rectangle(image, (x, y),(x + w, y + h),(255, 0, 0), 2)\n",
        "\n",
        "  rects = np.array([[x, y, x + w, y + h] for (x, y, w, h) in prune_rects])\n",
        "  pick = non_max_suppression(rects, probs=None, overlapThresh=0.55)\n",
        "\n",
        "  for (xA, yA, xB, yB) in pick:\n",
        "          cv2.rectangle(image, (xA, yA), (xB, yB), (0, 255, 0), 2)\n",
        "      \n",
        "  # Output (Linear SVM)\n",
        "  cv2_imshow(image)"
      ],
      "execution_count": null,
      "outputs": []
    }
  ]
}