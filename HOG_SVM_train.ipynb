{
  "nbformat": 4,
  "nbformat_minor": 0,
  "metadata": {
    "colab": {
      "name": "HOG_SVM_train.ipynb",
      "provenance": [],
      "collapsed_sections": []
    },
    "kernelspec": {
      "name": "python3",
      "display_name": "Python 3"
    },
    "language_info": {
      "name": "python"
    }
  },
  "cells": [
    {
      "cell_type": "code",
      "metadata": {
        "id": "tVYj2m4sAUih"
      },
      "source": [
        "from imutils.object_detection import non_max_suppression\n",
        "from sklearn.svm import *\n",
        "from skimage.transform import pyramid_gaussian\n",
        "from skimage import color\n",
        "import imutils\n",
        "import os\n",
        "import sys\n",
        "import glob\n",
        "import joblib\n",
        "from google.colab.patches import cv2_imshow\n",
        "import pickle\n",
        "import itertools\n",
        "import glob\n",
        "import os.path\n",
        "from PIL import Image\n",
        "import numpy as np\n",
        "import cv2"
      ],
      "execution_count": 1,
      "outputs": []
    },
    {
      "cell_type": "code",
      "metadata": {
        "id": "6o72s_40AaD4"
      },
      "source": [
        "sys.path.append(\"/content/\")\n",
        "from utils import *\n",
        "from skimage.feature import hog\n",
        "\n",
        "orientations = 9\n",
        "pixels_per_cell = (8, 8)\n",
        "cells_per_block = (2, 2)\n",
        "threshold = .3\n",
        "\n",
        "X,Y = make_training_data(orientations,pixels_per_cell,cells_per_block,threshold)"
      ],
      "execution_count": null,
      "outputs": []
    },
    {
      "cell_type": "code",
      "metadata": {
        "id": "DDLjKzhHAaBp"
      },
      "source": [
        "print('Saving the classifier')\n",
        "svm = SVC(kernel='rbf', gamma='auto', C= 0.1, max_iter=200000, tol=1e-4, coef0=1)\n",
        "svm.fit(X, Y)\n",
        "joblib.dump(svm, 'model_svm.npy')"
      ],
      "execution_count": null,
      "outputs": []
    },
    {
      "cell_type": "code",
      "metadata": {
        "id": "jwNOiP_pAZ_j"
      },
      "source": [
        "from skimage.feature import hog\n",
        "\n",
        "orientations = 9\n",
        "pixels_per_cell = (8, 8)\n",
        "cells_per_block = (2, 2)\n",
        "threshold = .3\n",
        "\n",
        "def sliding_window(image, stepSize, windowSize):\n",
        "  for y in range(0, image.shape[0], stepSize):\n",
        "    for x in range(0, image.shape[1], stepSize):\n",
        "      yield (x, y, image[y: y + windowSize[1], x:x + windowSize[0]])\n",
        "\n",
        "model = joblib.load(\"/content/model_svm.npy\")\n",
        "\n",
        "scale = 0\n",
        "detections = []\n",
        "\n",
        "img= cv2.imread(\"/content/drive/MyDrive/CV/seq03-img-left/image_00000005_0.png\")\n",
        "\n",
        "# img= cv2.resize(img,(400,300)) # can change the size to default by commenting this code out our put in a random number\n",
        "# img = imutils.resize(img,width=min(400, img.shape[1]))\n",
        "\n",
        "(winW, winH)= (64,128)\n",
        "windowSize=(winW,winH)\n",
        "downscale=1.5\n",
        "# Apply sliding window:\n",
        "for resized in pyramid_gaussian(img, downscale=1.3): # loop over each image of the pyramid\n",
        "    for (x,y,window) in sliding_window(resized, stepSize=10, windowSize=(winW,winH)):\n",
        "        \n",
        "        if window.shape[0] != winH or window.shape[1] !=winW : \n",
        "            continue\n",
        "        window=color.rgb2gray(window)\n",
        "        fds = hog(window, orientations, pixels_per_cell, cells_per_block, block_norm='L2')  \n",
        "        fds = fds.reshape(1, -1) \n",
        "        pred = model.predict(fds) \n",
        "        \n",
        "        if pred == 1:\n",
        "            if model.decision_function(fds) > 1.3 and model.decision_function(fds) < 1.4 and scale<3 and scale>=1:  \n",
        "            # if model.decision_function(fds) > 1.05 and model.decision_function(fds) < 1.1:  # set a threshold value for the SVM prediction i.e. only firm the predictions above probability of 0.6\n",
        "                # print(\"Detection:: Location -> ({}, {})\".format(x, y))\n",
        "                # print(\"Scale ->  {} | Confidence Score {} \\n\".format(scale,model.decision_function(fds)))\n",
        "                detections.append((int(x * (downscale**scale)), int(y * (downscale**scale)), model.decision_function(fds),\n",
        "                                   int(windowSize[0]*(downscale**scale)),\n",
        "                                      int(windowSize[1]*(downscale**scale))))\n",
        "    scale+=1\n",
        "    \n",
        "clone = resized.copy()\n",
        "# for (x_tl, y_tl, _, w, h) in detections:\n",
        "#     cv2.rectangle(img, (x_tl, y_tl), (x_tl + w, y_tl + h), (0, 0, 255), thickness = 2)\n",
        "rects = np.array([[x, y, x + w, y + h] for (x, y, _, w, h) in detections]) # do nms on the detected bounding boxes\n",
        "sc = [score[0] for (x, y, score, w, h) in detections]\n",
        "print(\"detection confidence score: \", sc)\n",
        "sc = np.array(sc)\n",
        "pick = non_max_suppression(rects, probs = sc, overlapThresh = 0.3)\n",
        "\n",
        "        \n",
        "for (xA, yA, xB, yB) in pick:\n",
        "    cv2.rectangle(img, (xA, yA), (xB, yB), (0,255,0), 2)\n",
        "cv2_imshow(img)"
      ],
      "execution_count": null,
      "outputs": []
    }
  ]
}